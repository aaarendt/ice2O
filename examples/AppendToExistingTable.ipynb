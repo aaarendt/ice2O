{
 "cells": [
  {
   "cell_type": "markdown",
   "metadata": {},
   "source": [
    "# Appending a Table to existing in Ice2O DB"
   ]
  },
  {
   "cell_type": "code",
   "execution_count": 9,
   "metadata": {
    "collapsed": false
   },
   "outputs": [],
   "source": [
    "import sys\n",
    "import pandas as pd\n",
    "import psycopg2\n",
    "from sqlalchemy import create_engine\n",
    "sys.path.append(\"C:/Users/ehbaker/Documents/Python/Modules/\")\n",
    "import DbImport\n",
    "import numpy as np\n",
    "import settings"
   ]
  },
  {
   "cell_type": "code",
   "execution_count": 2,
   "metadata": {
    "collapsed": false
   },
   "outputs": [
    {
     "data": {
      "text/plain": [
       "<module 'DbImport' from 'C:/Users/ehbaker/Documents/Python/Modules/DbImport.pyc'>"
      ]
     },
     "execution_count": 2,
     "metadata": {},
     "output_type": "execute_result"
    }
   ],
   "source": [
    "#Use this to reload the 'DbImport' folder as I go for trouble-shooting new functions\n",
    "reload(DbImport)"
   ]
  },
  {
   "cell_type": "code",
   "execution_count": 15,
   "metadata": {
    "collapsed": false
   },
   "outputs": [],
   "source": [
    "#Connect to the database\n",
    "cs=settings.import_cs()"
   ]
  },
  {
   "cell_type": "code",
   "execution_count": 16,
   "metadata": {
    "collapsed": false
   },
   "outputs": [],
   "source": [
    "#Connect to the database\n",
    "#cs = {\"host\":'localhost',\"port\":'5432',\"dbname\":\"spatial_database\",\"user\":'emily',\"password\":'WolverineGlacierUSGS'} \n",
    "engine = create_engine('postgresql://' + cs['user'] + ':' + str(cs['password']) + '@' + cs['host'] + ':' + cs['port'] + '/' + 'sandbox')"
   ]
  },
  {
   "cell_type": "code",
   "execution_count": 33,
   "metadata": {
    "collapsed": false
   },
   "outputs": [],
   "source": [
    "#Read in table for upload\n",
    "df=pd.read_csv(r\"Q:\\Project Data\\GlacierData\\WOLVERINE\\Draw_Wire\\data\\processed\\draw_wire_database.csv\")\n",
    "#Specify the table in the database to which it will be appended.\n",
    "db_table='draw_wire_originalsubset200'"
   ]
  },
  {
   "cell_type": "code",
   "execution_count": 34,
   "metadata": {
    "collapsed": false
   },
   "outputs": [
    {
     "name": "stdout",
     "output_type": "stream",
     "text": [
      "Primary key for draw_wire_originalsubset200 is: gid\n"
     ]
    }
   ],
   "source": [
    "#Query database for column name of table primary key, and type (e.g. bigint, string, etc.)\n",
    "res=db.pkey_NameAndType(db_table, engine)"
   ]
  },
  {
   "cell_type": "code",
   "execution_count": 35,
   "metadata": {
    "collapsed": false
   },
   "outputs": [],
   "source": [
    "pkey=res['attname'][0]\n",
    "pkey_type=res['data_type'][0]"
   ]
  },
  {
   "cell_type": "code",
   "execution_count": 47,
   "metadata": {
    "collapsed": false
   },
   "outputs": [
    {
     "name": "stdout",
     "output_type": "stream",
     "text": [
      "Primary Key = Numeric \n",
      "Adding the primary key and unique IDs to rows of table being appended\n",
      "Primary key for draw_wire_originalsubset200 is: gid\n"
     ]
    }
   ],
   "source": [
    "if pkey_type in ['smallint', 'integer', 'bigint', 'decimal', 'numeric', 'real', 'double precision', 'smallserial', 'serial', 'bigserial']:\n",
    "    print (\"Primary Key = Numeric \\nAdding the primary key and unique IDs to rows of table being appended\")\n",
    "    \n",
    "    df=DbImport.add_sequential_IDs_to_pkey(df, db_table, engine)"
   ]
  },
  {
   "cell_type": "code",
   "execution_count": 48,
   "metadata": {
    "collapsed": false
   },
   "outputs": [
    {
     "data": {
      "text/html": [
       "<div>\n",
       "<table border=\"1\" class=\"dataframe\">\n",
       "  <thead>\n",
       "    <tr style=\"text-align: right;\">\n",
       "      <th></th>\n",
       "      <th>station_name</th>\n",
       "      <th>datetime</th>\n",
       "      <th>extension</th>\n",
       "      <th>gid</th>\n",
       "    </tr>\n",
       "  </thead>\n",
       "  <tbody>\n",
       "    <tr>\n",
       "      <th>0</th>\n",
       "      <td>Wolverine_siteEC</td>\n",
       "      <td>5/7/2016 16:05</td>\n",
       "      <td>0.000000</td>\n",
       "      <td>67776</td>\n",
       "    </tr>\n",
       "    <tr>\n",
       "      <th>1</th>\n",
       "      <td>Wolverine_siteEC</td>\n",
       "      <td>5/7/2016 17:05</td>\n",
       "      <td>-0.010261</td>\n",
       "      <td>67777</td>\n",
       "    </tr>\n",
       "    <tr>\n",
       "      <th>2</th>\n",
       "      <td>Wolverine_siteEC</td>\n",
       "      <td>5/7/2016 18:05</td>\n",
       "      <td>-0.020799</td>\n",
       "      <td>67778</td>\n",
       "    </tr>\n",
       "    <tr>\n",
       "      <th>3</th>\n",
       "      <td>Wolverine_siteEC</td>\n",
       "      <td>5/7/2016 19:05</td>\n",
       "      <td>-0.027732</td>\n",
       "      <td>67779</td>\n",
       "    </tr>\n",
       "    <tr>\n",
       "      <th>4</th>\n",
       "      <td>Wolverine_siteEC</td>\n",
       "      <td>5/7/2016 20:05</td>\n",
       "      <td>-0.031337</td>\n",
       "      <td>67780</td>\n",
       "    </tr>\n",
       "    <tr>\n",
       "      <th>5</th>\n",
       "      <td>Wolverine_siteEC</td>\n",
       "      <td>5/7/2016 21:05</td>\n",
       "      <td>-0.027732</td>\n",
       "      <td>67781</td>\n",
       "    </tr>\n",
       "    <tr>\n",
       "      <th>6</th>\n",
       "      <td>Wolverine_siteEC</td>\n",
       "      <td>5/7/2016 22:05</td>\n",
       "      <td>-0.027732</td>\n",
       "      <td>67782</td>\n",
       "    </tr>\n",
       "    <tr>\n",
       "      <th>7</th>\n",
       "      <td>Wolverine_siteEC</td>\n",
       "      <td>5/7/2016 23:05</td>\n",
       "      <td>-0.027732</td>\n",
       "      <td>67783</td>\n",
       "    </tr>\n",
       "    <tr>\n",
       "      <th>8</th>\n",
       "      <td>Wolverine_siteEC</td>\n",
       "      <td>5/8/2016 0:05</td>\n",
       "      <td>-0.017471</td>\n",
       "      <td>67784</td>\n",
       "    </tr>\n",
       "    <tr>\n",
       "      <th>9</th>\n",
       "      <td>Wolverine_siteEC</td>\n",
       "      <td>5/8/2016 1:05</td>\n",
       "      <td>-0.031337</td>\n",
       "      <td>67785</td>\n",
       "    </tr>\n",
       "  </tbody>\n",
       "</table>\n",
       "</div>"
      ],
      "text/plain": [
       "       station_name        datetime  extension    gid\n",
       "0  Wolverine_siteEC  5/7/2016 16:05   0.000000  67776\n",
       "1  Wolverine_siteEC  5/7/2016 17:05  -0.010261  67777\n",
       "2  Wolverine_siteEC  5/7/2016 18:05  -0.020799  67778\n",
       "3  Wolverine_siteEC  5/7/2016 19:05  -0.027732  67779\n",
       "4  Wolverine_siteEC  5/7/2016 20:05  -0.031337  67780\n",
       "5  Wolverine_siteEC  5/7/2016 21:05  -0.027732  67781\n",
       "6  Wolverine_siteEC  5/7/2016 22:05  -0.027732  67782\n",
       "7  Wolverine_siteEC  5/7/2016 23:05  -0.027732  67783\n",
       "8  Wolverine_siteEC   5/8/2016 0:05  -0.017471  67784\n",
       "9  Wolverine_siteEC   5/8/2016 1:05  -0.031337  67785"
      ]
     },
     "execution_count": 48,
     "metadata": {},
     "output_type": "execute_result"
    }
   ],
   "source": [
    "df[0:10]"
   ]
  }
 ],
 "metadata": {
  "anaconda-cloud": {},
  "kernelspec": {
   "display_name": "Python [conda root]",
   "language": "python",
   "name": "conda-root-py"
  },
  "language_info": {
   "codemirror_mode": {
    "name": "ipython",
    "version": 2
   },
   "file_extension": ".py",
   "mimetype": "text/x-python",
   "name": "python",
   "nbconvert_exporter": "python",
   "pygments_lexer": "ipython2",
   "version": "2.7.12"
  }
 },
 "nbformat": 4,
 "nbformat_minor": 1
}
