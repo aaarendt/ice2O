{
 "cells": [
  {
   "cell_type": "markdown",
   "metadata": {},
   "source": [
    "# Upload Spatial Lines to sandbox\n",
    "### Take points files (csv), convert to lines (by factored column), and make lines\n",
    "Note: geometry information must be in columns labeled \"lat\" and \"long\"; geometry is created in column \"geom\""
   ]
  },
  {
   "cell_type": "code",
   "execution_count": 1,
   "metadata": {
    "collapsed": true
   },
   "outputs": [],
   "source": [
    "import sys\n",
    "import pandas as pd\n",
    "import psycopg2\n",
    "from sqlalchemy import create_engine\n",
    "sys.path.append(\"C:/Users/ehbaker/Documents/Python/Repos/ice2O\") #Path to where DBImport.py is saved\n",
    "import DbImport #User defined module in the folder added to path in line above.\n",
    "import numpy as np\n",
    "import settings"
   ]
  },
  {
   "cell_type": "markdown",
   "metadata": {},
   "source": [
    "### User supplied criteria"
   ]
  },
  {
   "cell_type": "code",
   "execution_count": 2,
   "metadata": {
    "collapsed": false
   },
   "outputs": [
    {
     "data": {
      "text/plain": [
       "<module 'DbImport' from 'C:/Users/ehbaker/Documents/Python/Repos/ice2O\\DbImport.pyc'>"
      ]
     },
     "execution_count": 2,
     "metadata": {},
     "output_type": "execute_result"
    }
   ],
   "source": [
    "reload(DbImport)"
   ]
  },
  {
   "cell_type": "code",
   "execution_count": 3,
   "metadata": {
    "collapsed": false
   },
   "outputs": [],
   "source": [
    "#For snow radar data\n",
    "db_points_table='snowradar' #table with points in the db\n",
    "db_lines_table='snowradar_lines' #table with lines in the db\n",
    "pth=(r\"Q:\\Project Data\\GlacierData\\GPR\\Wolverine\\2016\\Ice2ODatabase\\Wolverine_2016.csv\") #path to csv of points for upload\n",
    "pth_lines_meta=(r\"Q:\\Project Data\\GlacierData\\GPR\\Wolverine\\2016\\Ice2ODatabase\\Wolverine_2016_meta_lines.csv\")"
   ]
  },
  {
   "cell_type": "markdown",
   "metadata": {},
   "source": [
    "Connect to database and sandbox:"
   ]
  },
  {
   "cell_type": "code",
   "execution_count": 4,
   "metadata": {
    "collapsed": true
   },
   "outputs": [],
   "source": [
    "cs=settings.import_cs() #user-defined module to store connection info\n",
    "#Spatial_database\n",
    "engine = create_engine('postgresql://' + cs['user'] + ':' + str(cs['password']) + '@' + cs['host'] + ':' + cs['port'] + '/' + cs['dbname'])\n",
    "#Sandbox\n",
    "engine_sand = create_engine('postgresql://' + cs['user'] + ':' + str(cs['password']) + '@' + cs['host'] + ':' + cs['port'] + '/' + 'sandbox')"
   ]
  },
  {
   "cell_type": "markdown",
   "metadata": {},
   "source": [
    "Read in csv for upload:"
   ]
  },
  {
   "cell_type": "code",
   "execution_count": 5,
   "metadata": {
    "collapsed": false
   },
   "outputs": [
    {
     "data": {
      "text/html": [
       "<div>\n",
       "<table border=\"1\" class=\"dataframe\">\n",
       "  <thead>\n",
       "    <tr style=\"text-align: right;\">\n",
       "      <th></th>\n",
       "      <th>collection</th>\n",
       "      <th>velocity</th>\n",
       "      <th>density</th>\n",
       "      <th>date</th>\n",
       "      <th>obs_type</th>\n",
       "    </tr>\n",
       "  </thead>\n",
       "  <tbody>\n",
       "    <tr>\n",
       "      <th>0</th>\n",
       "      <td>WOLVERINE_2016_D1_LINE01</td>\n",
       "      <td>0.216</td>\n",
       "      <td>0.46</td>\n",
       "      <td>4/21/2016</td>\n",
       "      <td>helo</td>\n",
       "    </tr>\n",
       "    <tr>\n",
       "      <th>1</th>\n",
       "      <td>WOLVERINE_2016_D1_LINE02</td>\n",
       "      <td>0.216</td>\n",
       "      <td>0.46</td>\n",
       "      <td>4/21/2016</td>\n",
       "      <td>helo</td>\n",
       "    </tr>\n",
       "  </tbody>\n",
       "</table>\n",
       "</div>"
      ],
      "text/plain": [
       "                 collection  velocity  density       date obs_type\n",
       "0  WOLVERINE_2016_D1_LINE01     0.216     0.46  4/21/2016     helo\n",
       "1  WOLVERINE_2016_D1_LINE02     0.216     0.46  4/21/2016     helo"
      ]
     },
     "execution_count": 5,
     "metadata": {},
     "output_type": "execute_result"
    }
   ],
   "source": [
    "#Read in csv for upload\n",
    "df_pts=pd.read_csv(pth) #read point data to dataframe\n",
    "df_lin_meta=pd.read_csv(pth_lines_meta)\n",
    "df_lin_meta[0:2]"
   ]
  },
  {
   "cell_type": "markdown",
   "metadata": {},
   "source": [
    "Column names and Posgres data types for existing database table:"
   ]
  },
  {
   "cell_type": "code",
   "execution_count": 6,
   "metadata": {
    "collapsed": false
   },
   "outputs": [
    {
     "data": {
      "text/html": [
       "<div>\n",
       "<table border=\"1\" class=\"dataframe\">\n",
       "  <thead>\n",
       "    <tr style=\"text-align: right;\">\n",
       "      <th></th>\n",
       "      <th>trace</th>\n",
       "      <th>long</th>\n",
       "      <th>lat</th>\n",
       "      <th>elev</th>\n",
       "      <th>twtt</th>\n",
       "      <th>thickness</th>\n",
       "      <th>swe</th>\n",
       "      <th>collection</th>\n",
       "    </tr>\n",
       "  </thead>\n",
       "  <tbody>\n",
       "    <tr>\n",
       "      <th>0</th>\n",
       "      <td>3033</td>\n",
       "      <td>-148.920555</td>\n",
       "      <td>60.388216</td>\n",
       "      <td>798.13</td>\n",
       "      <td>17.2</td>\n",
       "      <td>1.858</td>\n",
       "      <td>0.855</td>\n",
       "      <td>WOLVERINE_2016_D1_LINE01</td>\n",
       "    </tr>\n",
       "    <tr>\n",
       "      <th>1</th>\n",
       "      <td>3034</td>\n",
       "      <td>-148.920559</td>\n",
       "      <td>60.388216</td>\n",
       "      <td>798.05</td>\n",
       "      <td>17.5</td>\n",
       "      <td>1.890</td>\n",
       "      <td>0.869</td>\n",
       "      <td>WOLVERINE_2016_D1_LINE01</td>\n",
       "    </tr>\n",
       "  </tbody>\n",
       "</table>\n",
       "</div>"
      ],
      "text/plain": [
       "   trace        long        lat    elev  twtt  thickness    swe  \\\n",
       "0   3033 -148.920555  60.388216  798.13  17.2      1.858  0.855   \n",
       "1   3034 -148.920559  60.388216  798.05  17.5      1.890  0.869   \n",
       "\n",
       "                 collection  \n",
       "0  WOLVERINE_2016_D1_LINE01  \n",
       "1  WOLVERINE_2016_D1_LINE01  "
      ]
     },
     "execution_count": 6,
     "metadata": {},
     "output_type": "execute_result"
    }
   ],
   "source": [
    "#Show the dataframe and the column types\n",
    "print(types) #data in DB\n",
    "df_pts[0:2]"
   ]
  },
  {
   "cell_type": "code",
   "execution_count": 7,
   "metadata": {
    "collapsed": false
   },
   "outputs": [
    {
     "data": {
      "text/html": [
       "<div>\n",
       "<table border=\"1\" class=\"dataframe\">\n",
       "  <thead>\n",
       "    <tr style=\"text-align: right;\">\n",
       "      <th></th>\n",
       "      <th>collection</th>\n",
       "      <th>velocity</th>\n",
       "      <th>density</th>\n",
       "      <th>date</th>\n",
       "      <th>obs_type</th>\n",
       "    </tr>\n",
       "  </thead>\n",
       "  <tbody>\n",
       "    <tr>\n",
       "      <th>0</th>\n",
       "      <td>WOLVERINE_2016_D1_LINE01</td>\n",
       "      <td>0.216</td>\n",
       "      <td>0.46</td>\n",
       "      <td>4/21/2016</td>\n",
       "      <td>helo</td>\n",
       "    </tr>\n",
       "    <tr>\n",
       "      <th>1</th>\n",
       "      <td>WOLVERINE_2016_D1_LINE02</td>\n",
       "      <td>0.216</td>\n",
       "      <td>0.46</td>\n",
       "      <td>4/21/2016</td>\n",
       "      <td>helo</td>\n",
       "    </tr>\n",
       "  </tbody>\n",
       "</table>\n",
       "</div>"
      ],
      "text/plain": [
       "                 collection  velocity  density       date obs_type\n",
       "0  WOLVERINE_2016_D1_LINE01     0.216     0.46  4/21/2016     helo\n",
       "1  WOLVERINE_2016_D1_LINE02     0.216     0.46  4/21/2016     helo"
      ]
     },
     "execution_count": 7,
     "metadata": {},
     "output_type": "execute_result"
    }
   ],
   "source": [
    "df_lin_meta[0:2]"
   ]
  },
  {
   "cell_type": "code",
   "execution_count": 8,
   "metadata": {
    "collapsed": false
   },
   "outputs": [
    {
     "name": "stdout",
     "output_type": "stream",
     "text": [
      "(370438, 8)\n",
      "snowradar_points: table of all points collected\n"
     ]
    }
   ],
   "source": [
    "dbnamePts=db_points_table+'_points'\n",
    "print(df_pts.shape)\n",
    "print(dbnamePts + ': table of all points collected')"
   ]
  },
  {
   "cell_type": "code",
   "execution_count": 10,
   "metadata": {
    "collapsed": false
   },
   "outputs": [
    {
     "name": "stdout",
     "output_type": "stream",
     "text": [
      "Added all points as snowradar_points\n"
     ]
    }
   ],
   "source": [
    "#Add [a subset of] points dataframe to the DB\n",
    "df_pts=df_pts.sample(3000)\n",
    "df_pts=df_pts.sort_values('trace')\n",
    "df_pts.to_sql(dbnamePts, engine_sand, index=False)\n",
    "print(\"Added all points as \" + dbnamePts)"
   ]
  },
  {
   "cell_type": "code",
   "execution_count": 11,
   "metadata": {
    "collapsed": false
   },
   "outputs": [
    {
     "data": {
      "text/plain": [
       "<sqlalchemy.engine.result.ResultProxy at 0xf6d9588>"
      ]
     },
     "execution_count": 11,
     "metadata": {},
     "output_type": "execute_result"
    }
   ],
   "source": [
    "# create the geometry field\n",
    "engine_sand.execute(\"\"\"ALTER TABLE %s ADD COLUMN geom geometry(Point, 3338);\"\"\" %(dbnamePts)) \n",
    "# populate the geometry field\n",
    "engine_sand.execute(\"\"\"UPDATE %s SET geom = ST_Transform(ST_setSRID(ST_MakePoint(long,lat),4326),3338);\"\"\" %(dbnamePts))"
   ]
  },
  {
   "cell_type": "code",
   "execution_count": 12,
   "metadata": {
    "collapsed": false
   },
   "outputs": [
    {
     "name": "stdout",
     "output_type": "stream",
     "text": [
      "Created EMPTY table: snowradar_lines_temp_geometry ; to fill table, see cell below\n"
     ]
    }
   ],
   "source": [
    "# Make the associated line file\n",
    "dbnameLines= db_lines_table +'_temp_geometry'\n",
    "engine_sand.execute(\"\"\"CREATE TABLE %s (collection text, geom geometry(Linestring, 3338));\"\"\" %(dbnameLines))\n",
    "query = ('WITH linecreation AS (SELECT collection, ST_MakeLine(geom) as geom FROM ' + dbnamePts + ' GROUP BY collection) INSERT INTO ' + dbnameLines + ' SELECT * FROM linecreation;')\n",
    "engine_sand.execute(query)\n",
    "print(\"Created EMPTY table: \" + dbnameLines+ \" ; to fill table, see cell below\")"
   ]
  },
  {
   "cell_type": "code",
   "execution_count": 15,
   "metadata": {
    "collapsed": false
   },
   "outputs": [
    {
     "data": {
      "text/plain": [
       "'WITH linecreation AS (SELECT collection, ST_MakeLine(geom) as geom FROM snowradar_points GROUP BY collection) INSERT INTO snowradar_lines_temp_geometry SELECT * FROM linecreation;'"
      ]
     },
     "execution_count": 15,
     "metadata": {},
     "output_type": "execute_result"
    }
   ],
   "source": [
    "#The last command is currently not workikng; must pass it in directly into SQL window. Copy and paste the text below:\n",
    "engine_sand.execute(query)\n",
    "query"
   ]
  },
  {
   "cell_type": "markdown",
   "metadata": {},
   "source": [
    "### Reset the column formats and permissions"
   ]
  },
  {
   "cell_type": "code",
   "execution_count": 32,
   "metadata": {
    "collapsed": false
   },
   "outputs": [],
   "source": [
    "#Upload and join the metadata table to the geospatial lines table (already in the sandbox)\n",
    "dbnameMeta = 'snowradar_ingest_metadata'\n",
    "df_lin_meta.to_sql(dbnameMeta, engine_sand, index=False, if_exists='replace')"
   ]
  },
  {
   "cell_type": "code",
   "execution_count": 33,
   "metadata": {
    "collapsed": false
   },
   "outputs": [
    {
     "data": {
      "text/plain": [
       "['collection', 'velocity', 'density', 'date', 'obs_type']"
      ]
     },
     "execution_count": 33,
     "metadata": {},
     "output_type": "execute_result"
    }
   ],
   "source": [
    "list(df_lin_meta)"
   ]
  },
  {
   "cell_type": "code",
   "execution_count": 35,
   "metadata": {
    "collapsed": false
   },
   "outputs": [
    {
     "data": {
      "text/plain": [
       "<sqlalchemy.engine.result.ResultProxy at 0xff80fd0>"
      ]
     },
     "execution_count": 35,
     "metadata": {},
     "output_type": "execute_result"
    }
   ],
   "source": [
    "#Use a join to create our desired table, from 2 initial uploads (points-> lines, and Metadata )\n",
    "dbnameFinal= db_lines_table +'_ingest_final'\n",
    "query= \"\"\"CREATE TABLE %s AS\n",
    "SELECT %s.collection, velocity, density, date, obs_type, geom\n",
    "FROM %s LEFT OUTER JOIN %s \n",
    "ON (snowradar_ingest_metadata.collection =%s.collection)\"\"\"%(dbnameFinal,dbnameMeta, dbnameMeta, dbnameLines, dbnameLines)\n",
    "engine_sand.execute(query)"
   ]
  },
  {
   "cell_type": "code",
   "execution_count": 36,
   "metadata": {
    "collapsed": false
   },
   "outputs": [
    {
     "data": {
      "text/plain": [
       "<sqlalchemy.engine.result.ResultProxy at 0xf935ba8>"
      ]
     },
     "execution_count": 36,
     "metadata": {},
     "output_type": "execute_result"
    }
   ],
   "source": [
    "#Add Primary Key\n",
    "engine_sand.execute(\"\"\"ALTER TABLE %s ADD COLUMN gid SERIAL;\"\"\" %(dbnameFinal))\n",
    "engine_sand.execute(\"\"\"UPDATE %s SET gid = nextval(pg_get_serial_sequence('%s','gid'));\"\"\" %(dbnameFinal, dbnameFinal))\n",
    "engine_sand.execute(\"\"\"ALTER TABLE %s ADD PRIMARY KEY(gid);\"\"\" %(dbnameFinal))"
   ]
  },
  {
   "cell_type": "code",
   "execution_count": 37,
   "metadata": {
    "collapsed": false
   },
   "outputs": [
    {
     "data": {
      "text/html": [
       "<div>\n",
       "<table border=\"1\" class=\"dataframe\">\n",
       "  <thead>\n",
       "    <tr style=\"text-align: right;\">\n",
       "      <th></th>\n",
       "      <th>attname</th>\n",
       "      <th>type</th>\n",
       "    </tr>\n",
       "  </thead>\n",
       "  <tbody>\n",
       "    <tr>\n",
       "      <th>0</th>\n",
       "      <td>collection</td>\n",
       "      <td>text</td>\n",
       "    </tr>\n",
       "    <tr>\n",
       "      <th>1</th>\n",
       "      <td>velocity</td>\n",
       "      <td>double precision</td>\n",
       "    </tr>\n",
       "    <tr>\n",
       "      <th>2</th>\n",
       "      <td>density</td>\n",
       "      <td>double precision</td>\n",
       "    </tr>\n",
       "    <tr>\n",
       "      <th>3</th>\n",
       "      <td>date</td>\n",
       "      <td>date</td>\n",
       "    </tr>\n",
       "    <tr>\n",
       "      <th>4</th>\n",
       "      <td>obs_type</td>\n",
       "      <td>text</td>\n",
       "    </tr>\n",
       "    <tr>\n",
       "      <th>5</th>\n",
       "      <td>geom</td>\n",
       "      <td>geometry(Geometry,3338)</td>\n",
       "    </tr>\n",
       "    <tr>\n",
       "      <th>6</th>\n",
       "      <td>gid</td>\n",
       "      <td>integer</td>\n",
       "    </tr>\n",
       "  </tbody>\n",
       "</table>\n",
       "</div>"
      ],
      "text/plain": [
       "      attname                     type\n",
       "0  collection                     text\n",
       "1    velocity         double precision\n",
       "2     density         double precision\n",
       "3        date                     date\n",
       "4    obs_type                     text\n",
       "5        geom  geometry(Geometry,3338)\n",
       "6         gid                  integer"
      ]
     },
     "execution_count": 37,
     "metadata": {},
     "output_type": "execute_result"
    }
   ],
   "source": [
    "#List columns & types in the model database table\n",
    "types=DbImport.define_db_table_format(db_lines_table, engine)\n",
    "types"
   ]
  },
  {
   "cell_type": "code",
   "execution_count": 38,
   "metadata": {
    "collapsed": false
   },
   "outputs": [
    {
     "name": "stdout",
     "output_type": "stream",
     "text": [
      "done with collection\n",
      "done with velocity\n",
      "done with density\n",
      "done with date\n",
      "done with obs_type\n",
      "done with geom\n",
      "done with gid\n",
      "DONE with changing column types in snowradar_lines_ingest_final\n"
     ]
    },
    {
     "data": {
      "text/plain": [
       "()"
      ]
     },
     "execution_count": 38,
     "metadata": {},
     "output_type": "execute_result"
    }
   ],
   "source": [
    "#Set the type of these columns to match\n",
    "DbImport.set_column_types_to_match_other_table(list(types.attname), list(types.type), dbnameFinal, engine_sand)"
   ]
  },
  {
   "cell_type": "code",
   "execution_count": 39,
   "metadata": {
    "collapsed": false
   },
   "outputs": [
    {
     "data": {
      "text/plain": [
       "<sqlalchemy.engine.result.ResultProxy at 0xff9fcf8>"
      ]
     },
     "execution_count": 39,
     "metadata": {},
     "output_type": "execute_result"
    }
   ],
   "source": [
    "#Change owner\n",
    "engine_sand.execute(\"ALTER TABLE %s OWNER TO administrator\"%(dbnameLines))"
   ]
  },
  {
   "cell_type": "code",
   "execution_count": 40,
   "metadata": {
    "collapsed": false
   },
   "outputs": [
    {
     "name": "stdout",
     "output_type": "stream",
     "text": [
      "GRANT SELECT ON TABLE snowradar_lines_ingest_final TO reader;\n",
      "GRANT ALL ON TABLE snowradar_lines_ingest_final TO administrator;\n",
      "ALTER TABLE snowradar_lines_ingest_final OWNER TO administrator;\n"
     ]
    }
   ],
   "source": [
    "#Queries that only work when passed DIRECTLY in SQL, and not thru Python SQLAlchemy\n",
    "query1=\"GRANT SELECT ON TABLE %s TO reader;\"%(dbnameFinal)\n",
    "query2=\"GRANT ALL ON TABLE %s TO administrator;\"%(dbnameFinal)\n",
    "query3=\"ALTER TABLE %s OWNER TO administrator;\"%(dbnameFinal)\n",
    "print(query1)\n",
    "print(query2)\n",
    "print(query3)"
   ]
  },
  {
   "cell_type": "code",
   "execution_count": 43,
   "metadata": {
    "collapsed": false
   },
   "outputs": [
    {
     "name": "stdout",
     "output_type": "stream",
     "text": [
      "('Deleted Temp Tables: %s %s', 'snowradar_lines_temp_geometry', 'snowradar_ingest_metadata')\n"
     ]
    }
   ],
   "source": [
    "#Delete temp tables that were created with upload, but are no longer needed:\n",
    "engine_sand.execute(\"DROP TABLE %s\"%(dbnameLines))\n",
    "engine_sand.execute(\"DROP TABLE %s\"%(dbnameMeta))\n",
    "print(\"Deleted Temp Tables: %s %s\"%(dbnameLines, dbnameMeta)"
   ]
  },
  {
   "cell_type": "markdown",
   "metadata": {},
   "source": [
    "### Done! You have uploaded a table to the sandbox which matches structure of the original table (columns and types)"
   ]
  },
  {
   "cell_type": "markdown",
   "metadata": {
    "collapsed": true
   },
   "source": [
    "Now: change the format on the points table (if you want to keep this one, vs. original. Really, only important when uploading a subset of data (so that lines and points match). With full table, they WILL match, so no need to use this import process neccessarily. May be cleaner to do together, may revisit"
   ]
  },
  {
   "cell_type": "code",
   "execution_count": null,
   "metadata": {
    "collapsed": true
   },
   "outputs": [],
   "source": []
  }
 ],
 "metadata": {
  "anaconda-cloud": {},
  "kernelspec": {
   "display_name": "Python 3",
   "language": "python",
   "name": "python3"
  },
  "language_info": {
   "codemirror_mode": {
    "name": "ipython",
    "version": 3
   },
   "file_extension": ".py",
   "mimetype": "text/x-python",
   "name": "python",
   "nbconvert_exporter": "python",
   "pygments_lexer": "ipython3",
   "version": "3.6.0"
  }
 },
 "nbformat": 4,
 "nbformat_minor": 1
}
